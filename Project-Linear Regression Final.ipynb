{
 "cells": [
  {
   "cell_type": "markdown",
   "metadata": {},
   "source": [
    "# Performing Linear Regression with Bag of Words"
   ]
  },
  {
   "cell_type": "code",
   "execution_count": 61,
   "metadata": {},
   "outputs": [],
   "source": [
    "import csv\n",
    "import gzip\n",
    "import math\n",
    "import hashlib\n",
    "import numpy as np\n",
    "import pandas as pd\n",
    "import re"
   ]
  },
  {
   "cell_type": "code",
   "execution_count": 130,
   "metadata": {},
   "outputs": [],
   "source": [
    "df = pd.read_csv('all.csv', dtype=str, keep_default_na=False)"
   ]
  },
  {
   "cell_type": "code",
   "execution_count": 131,
   "metadata": {},
   "outputs": [],
   "source": [
    "df[\"Price\"] = pd.to_numeric(df[\"Price\"])\n",
    "df[\"PropertyType\"] = pd.to_numeric(df[\"PropertyType\"])\n",
    "df[\"Beds\"] = pd.to_numeric(df[\"Beds\"])\n",
    "df[\"Baths\"] = pd.to_numeric(df[\"Baths\"])\n",
    "df[\"Sqft\"] = pd.to_numeric(df[\"Sqft\"])\n",
    "df[\"YearBuilt\"] = pd.to_numeric(df[\"YearBuilt\"], downcast='integer')\n",
    "df[\"WalkScore\"] = pd.to_numeric(df[\"WalkScore\"])\n",
    "df[\"TransitScore\"] = pd.to_numeric(df[\"TransitScore\"])\n",
    "df[\"ParkingPrice\"] = pd.to_numeric(df[\"ParkingPrice\"])\n",
    "df[\"ParkingType\"] = pd.to_numeric(df[\"ParkingType\"])\n",
    "df[\"Cooling\"] = pd.to_numeric(df[\"Cooling\"])\n",
    "df[\"Laundry\"] = pd.to_numeric(df[\"Laundry\"])\n",
    "\n",
    "df1 = df.drop(['Address', 'Description'], axis=1)"
   ]
  },
  {
   "cell_type": "markdown",
   "metadata": {},
   "source": [
    "## Baseline Regression"
   ]
  },
  {
   "cell_type": "code",
   "execution_count": 74,
   "metadata": {},
   "outputs": [],
   "source": [
    "def split_data(df):\n",
    "    \"\"\"split the data into training and validation sets, and convert them to np.ndarray. (Step 1 and 2 above.)\n",
    "\n",
    "    args:\n",
    "        df : pandas.DataFrame -- the parsed data, as returned by parse_stackoverflow_data()\n",
    "\n",
    "    returns: X_train, y_train, X_val, y_val\n",
    "      X_train  : np.ndarray -- the second 80% of the data features\n",
    "      y_train : np.ndarray -- the second 80% of the target values\n",
    "      X_val : np.ndarray -- the first 20% (rounded down) of the data features\n",
    "      y_val : np.ndarray -- the first 20% of the target valuesn\n",
    "    \"\"\"\n",
    "    n = len(df)\n",
    "    df['final'] = 1.0\n",
    "    df = df.to_numpy()\n",
    "    i = int(np.floor(n*0.2))\n",
    "    val = df[0:i,:]\n",
    "    train = df[i:,:]\n",
    "    Y_train = train[:, 0]\n",
    "    X_train = train[:, 1:]\n",
    "    Y_val = val[:, 0]\n",
    "    X_val = val[:, 1:]\n",
    "    return(X_train, Y_train, X_val, Y_val)\n",
    "X_train, Y_train, X_val, Y_val = split_data(df1)"
   ]
  },
  {
   "cell_type": "code",
   "execution_count": 145,
   "metadata": {},
   "outputs": [],
   "source": [
    "#https://stattrek.com/regression/slope-confidence-interval.aspx?Tutorial=AP\n",
    "\n",
    "def squared_error(y_pred, y):\n",
    "    return(np.mean(np.square(np.subtract(y_pred,y))))\n",
    "\n",
    "def standard_error(X_train, y_train):\n",
    "    lm = LinearRegression(X_train, y_train)\n",
    "    y_hat = lm.predict(X_train)\n",
    "    x_bar = np.mean(X_train)\n",
    "    n = len(y_train)\n",
    "    return np.sqrt(sum((y_train - y_hat)**2)/(n - 2))/np.sqrt(sum((X_train - x_bar)**2)), lm.theta\n",
    "\n",
    "class LinearRegression():\n",
    "    def __init__(self, X, y):\n",
    "        self.theta = np.linalg.solve(X.T @ X, X.T @ y)\n",
    "\n",
    "    def predict(self, X): \n",
    "        return(X @ self.theta)"
   ]
  },
  {
   "cell_type": "code",
   "execution_count": 77,
   "metadata": {},
   "outputs": [
    {
     "data": {
      "text/plain": [
       "(143821.39515347502, 292466.19087478047)"
      ]
     },
     "execution_count": 77,
     "metadata": {},
     "output_type": "execute_result"
    }
   ],
   "source": [
    "def evaluate_linear_regression(X_train, y_train, X_val, y_val):\n",
    "    lm = LinearRegression(X_train, y_train)\n",
    "    baseline_mse = squared_error(np.mean(y_train), y_val)\n",
    "    validation_mse = squared_error(lm.predict(X_val), y_val)\n",
    "    return((validation_mse, baseline_mse))\n",
    "evaluate_linear_regression(X_train, Y_train, X_val, Y_val)   "
   ]
  },
  {
   "cell_type": "code",
   "execution_count": 108,
   "metadata": {},
   "outputs": [],
   "source": [
    "std_err, coefs = standard_error(X_train, Y_train)\n",
    "cols = list(df.drop(['Price','Description', 'Address'], axis=1).columns)"
   ]
  },
  {
   "cell_type": "code",
   "execution_count": 109,
   "metadata": {},
   "outputs": [],
   "source": [
    "#https://online.stat.psu.edu/stat501/lesson/2/2.12\n",
    "#https://stats.stackexchange.com/questions/324260/manually-calculate-the-parameters-std-error-of-lm-output-in-r\n",
    "#https://www.statisticshowto.com/probability-and-statistics/coefficient-of-determination-r-squared/\n",
    "#https://en.wikipedia.org/wiki/Simple_linear_regression\n",
    "\n",
    "from scipy import stats\n",
    "t_value = coefs/std_err\n",
    "p_value = (1-stats.t.cdf(abs(t_value),df=len(Y_train)-2))*2"
   ]
  },
  {
   "cell_type": "code",
   "execution_count": 110,
   "metadata": {},
   "outputs": [
    {
     "name": "stdout",
     "output_type": "stream",
     "text": [
      "       variables  coefficients  std error      t_value   p_value\n",
      "0   PropertyType     59.885976   0.021990  2723.330558  0.000000\n",
      "1           Beds    199.515307   0.022092  9031.088123  0.000000\n",
      "2          Baths    136.130106   0.022097  6160.647255  0.000000\n",
      "3           Sqft      0.157870   0.007820    20.187685  0.000000\n",
      "4      YearBuilt      0.010993   0.002974     3.696187  0.000225\n",
      "5      WalkScore      2.379358   0.037789    62.963957  0.000000\n",
      "6   TransitScore      6.384853   0.036178   176.482136  0.000000\n",
      "7   ParkingPrice      0.080419   0.038492     2.089211  0.036816\n",
      "8    ParkingType    -14.604286   0.022070  -661.736832  0.000000\n",
      "9        Cooling    153.803979   0.022074  6967.776690  0.000000\n",
      "10       Laundry     38.744494   0.022083  1754.503895  0.000000\n",
      "11         final     56.575380   0.022087  2561.449559  0.000000\n"
     ]
    }
   ],
   "source": [
    "summary = pd.DataFrame()\n",
    "summary['variables'] = cols\n",
    "summary['coefficients'] = coefs\n",
    "summary['std error'] = std_err\n",
    "summary['t_value'] = t_value\n",
    "summary['p_value'] = p_value\n",
    "print(summary)"
   ]
  },
  {
   "cell_type": "markdown",
   "metadata": {},
   "source": [
    "### Cleaning Text Data"
   ]
  },
  {
   "cell_type": "code",
   "execution_count": 134,
   "metadata": {},
   "outputs": [],
   "source": [
    "def clean_description(description):\n",
    "    description = description.lower()\n",
    "    return ' '.join(re.sub('(@[A-Za-z0-9]+)|([^0-9A-Za-z \\t])|(\\w+:\\/\\/\\S+)|([-,\\\"@\\'?\\.$%_\\d\\+\\:])', ' ', description).split())\n",
    "\n",
    "df[\"Clean Description\"] = df['Description'].apply(lambda x: clean_description(x))"
   ]
  },
  {
   "cell_type": "code",
   "execution_count": 135,
   "metadata": {},
   "outputs": [
    {
     "data": {
      "text/plain": [
       "'from virtual to reality call us for an in person social distancing tour located in the heart of pittsburgh s north shore park view apartments offer a full range of amenities to its residents that include controlled entrance access system beautiful roof top decks fitness center large windows and balconies residents will also enjoy convenient access to a number of the city s most popular cultural and athletic attractions including pnc park heinz field the benedum center o reilly theatre carnegie science center andy warhol museum convention center children s museum and three rivers casino park view prides itself in providing affordable luxury in the heart of an urban park environment'"
      ]
     },
     "execution_count": 135,
     "metadata": {},
     "output_type": "execute_result"
    }
   ],
   "source": [
    "df[\"Clean Description\"][1]"
   ]
  },
  {
   "cell_type": "markdown",
   "metadata": {},
   "source": [
    "## Bag of Words"
   ]
  },
  {
   "cell_type": "code",
   "execution_count": 136,
   "metadata": {},
   "outputs": [
    {
     "name": "stdout",
     "output_type": "stream",
     "text": [
      "              word  count\n",
      "51          access   5602\n",
      "237           site   5585\n",
      "324       features   5542\n",
      "528         floors   4293\n",
      "58          center   4293\n",
      "250     appliances   4222\n",
      "57         fitness   4187\n",
      "465          rooms   4071\n",
      "1970         fifth   3985\n",
      "2827         grand   3967\n",
      "3383      kaufmann   3948\n",
      "38      pittsburgh   3651\n",
      "135           room   3151\n",
      "379           unit   2961\n",
      "256       hardwood   2947\n",
      "125         washer   2939\n",
      "126          dryer   2930\n",
      "298            air   2886\n",
      "375           walk   2853\n",
      "297     dishwasher   2805\n",
      "257           high   2790\n",
      "299   conditioning   2786\n",
      "267      stainless   2782\n",
      "268          steel   2765\n"
     ]
    }
   ],
   "source": [
    "import nltk\n",
    "\n",
    "stopwords = {'me', 'my', 'myself', 'we', 'our', 'ours', 'ourselves', 'you', 'your', 'yours',\n",
    "                       'yourself', 'yourselves', 'he', 'him', 'his', 'himself', 'she', 'her', 'hers', 'herself',\n",
    "                       'it', 'its', 'itself', 'they', 'them', 'their', 'theirs', 'themselves', 'what', 'which',\n",
    "                       'who', 'whom', 'this', 'that', 'these', 'those', 'am', 'is', 'are', 'was', 'were', 'be',\n",
    "                       'been', 'being', 'have', 'has', 'had', 'having', 'do', 'does', 'did', 'doing', 'an',\n",
    "                       'the', 'and', 'but', 'if', 'or', 'because', 'as', 'until', 'while', 'of', 'at', 'by',\n",
    "                       'for', 'with', 'about', 'between', 'into', 'through', 'during', 'before',\n",
    "                       'after', 'above', 'below', 'to', 'from', 'up', 'down', 'in', 'out', 'on', 'off', 'over',\n",
    "                       'under', 'again', 'further', 'then', 'once', 'here', 'there', 'when', 'where', 'why',\n",
    "                       'how', 'all', 'any', 'both', 'each', 'few', 'more', 'most', 'other', 'some', 'such',\n",
    "                       'no', 'nor', 'not', 'only', 'own', 'same', 'so', 'than', 'too', 'very', 'can',\n",
    "                       'just', 'should', 'now', '', 'a', 's'}\n",
    "\n",
    "def getAllWords(df):\n",
    "    allWords = {}\n",
    "    for index, row in df.iterrows():\n",
    "        tmpDict = row['Clean Description'].split()\n",
    "        for word in tmpDict:\n",
    "            if word not in stopwords:\n",
    "                if word not in allWords:\n",
    "                    allWords[word] = 1\n",
    "                else:\n",
    "                    allWords[word] += 1\n",
    "    allWords = pd.DataFrame(list(allWords.items()),columns = ['word','count']) \n",
    "    return allWords\n",
    "\n",
    "wordcounts = getAllWords(df).sort_values(by=['count'], ascending=False)\n",
    "vocab = wordcounts[1:25]\n",
    "print(wordcounts[1:25])"
   ]
  },
  {
   "cell_type": "code",
   "execution_count": 151,
   "metadata": {},
   "outputs": [],
   "source": [
    "df2 = df\n",
    "for word in vocab[\"word\"]: \n",
    "    df2[word] = 0"
   ]
  },
  {
   "cell_type": "code",
   "execution_count": 152,
   "metadata": {},
   "outputs": [],
   "source": [
    "bow = []\n",
    "for index, row in df2.iterrows():\n",
    "    tmpDict = row['Clean Description']\n",
    "    for word in vocab[\"word\"]:\n",
    "        df2.loc[index, word] = tmpDict.count(word)"
   ]
  },
  {
   "cell_type": "code",
   "execution_count": 155,
   "metadata": {},
   "outputs": [
    {
     "name": "stdout",
     "output_type": "stream",
     "text": [
      "       Price                                Address  PropertyType  Beds  \\\n",
      "0     1185.0     1 Magdalene St Pittsburgh PA 15203           1.0   1.0   \n",
      "1     1575.0    10 Allegheny Ct Pittsburgh PA 15212           0.0   2.0   \n",
      "2      800.0    10 Allegheny Ct Pittsburgh PA 15212           0.0   0.0   \n",
      "3     1575.0    10 Allegheny Ct Pittsburgh PA 15212           0.0   2.0   \n",
      "4     1395.0    10 Allegheny Ct Pittsburgh PA 15212           0.0   1.0   \n",
      "...      ...                                    ...           ...   ...   \n",
      "2475   780.0  957 Bockstoce Ave Pittsburgh PA 15234           0.0   1.0   \n",
      "2476   950.0  957 Bockstoce Ave Pittsburgh PA 15234           0.0   2.0   \n",
      "2477   645.0         97 23rd St Pittsburgh PA 15203           1.0  -1.0   \n",
      "2478   995.0         97 27th St Pittsburgh PA 15203           1.0   1.0   \n",
      "2479   950.0   978 Garfield Ave Pittsburgh PA 15221           0.0   1.0   \n",
      "\n",
      "      Baths    Sqft  YearBuilt  WalkScore  TransitScore  ParkingPrice  ...  \\\n",
      "0       1.5  1250.0       1900       83.0          51.0          -1.0  ...   \n",
      "1       1.0  1020.0         -1       -1.0          -1.0          -1.0  ...   \n",
      "2       1.0   480.0         -1       -1.0          -1.0          -1.0  ...   \n",
      "3       1.0  1020.0         -1       -1.0          -1.0          -1.0  ...   \n",
      "4       1.0   680.0         -1       -1.0          -1.0          -1.0  ...   \n",
      "...     ...     ...        ...        ...           ...           ...  ...   \n",
      "2475    1.0    -1.0         -1       59.0          54.0          -1.0  ...   \n",
      "2476    1.0    -1.0         -1       59.0          54.0          -1.0  ...   \n",
      "2477   -1.0    -1.0         -1       96.0          64.0          -1.0  ...   \n",
      "2478    1.0  1000.0         -1       84.0          49.0           0.0  ...   \n",
      "2479    1.0   921.0       1956       37.0          38.0           0.0  ...   \n",
      "\n",
      "      dryer  air  walk dishwasher  high  conditioning  stainless  steel  \\\n",
      "0         0    0     0          0     0             0          0      0   \n",
      "1         0    0     0          0     0             0          0      0   \n",
      "2         0    0     0          0     0             0          0      0   \n",
      "3         0    0     0          0     0             0          0      0   \n",
      "4         0    0     0          0     0             0          0      0   \n",
      "...     ...  ...   ...        ...   ...           ...        ...    ...   \n",
      "2475      0    1     0          1     0             1          0      0   \n",
      "2476      0    1     0          1     0             1          0      0   \n",
      "2477      0    0     2          0     0             0          0      0   \n",
      "2478      0    0     0          0     0             0          0      0   \n",
      "2479      1    0     0          0     0             0          0      0   \n",
      "\n",
      "                                      Clean Description  final  \n",
      "0     great house in the slopes quiet dead end great...    1.0  \n",
      "1     from virtual to reality call us for an in pers...    1.0  \n",
      "2     from virtual to reality call us for an in pers...    1.0  \n",
      "3     from virtual to reality call us for an in pers...    1.0  \n",
      "4     from virtual to reality call us for an in pers...    1.0  \n",
      "...                                                 ...    ...  \n",
      "2475  two bedroom apartment available at electric pl...    1.0  \n",
      "2476  two bedroom apartment available at electric pl...    1.0  \n",
      "2477  studio layout open room plan on second floor r...    1.0  \n",
      "2478  this square foot single family home has bedroo...    1.0  \n",
      "2479  now available welcome home to this beautiful t...    1.0  \n",
      "\n",
      "[2480 rows x 40 columns]\n"
     ]
    }
   ],
   "source": [
    "print(df2)"
   ]
  },
  {
   "cell_type": "code",
   "execution_count": 165,
   "metadata": {},
   "outputs": [
    {
     "data": {
      "text/plain": [
       "0       Great house in The Slopes. Quiet Dead End. Gre...\n",
       "1       FROM VIRTUAL. TO REALITY.CALL US FOR AN IN-PER...\n",
       "2       FROM VIRTUAL. TO REALITY.CALL US FOR AN IN-PER...\n",
       "3       FROM VIRTUAL. TO REALITY.CALL US FOR AN IN-PER...\n",
       "4       FROM VIRTUAL. TO REALITY.CALL US FOR AN IN-PER...\n",
       "                              ...                        \n",
       "2475    Two bedroom apartment available at $930 + elec...\n",
       "2476    Two bedroom apartment available at $930 + elec...\n",
       "2477    Studio layout, open room plan on second floor,...\n",
       "2478    This 1000 square foot single family home has 1...\n",
       "2479    Now Available!\\n\\nWelcome home to this beautif...\n",
       "Name: Description, Length: 2480, dtype: object"
      ]
     },
     "execution_count": 165,
     "metadata": {},
     "output_type": "execute_result"
    }
   ],
   "source": [
    "df2['Description']"
   ]
  },
  {
   "cell_type": "code",
   "execution_count": 166,
   "metadata": {},
   "outputs": [],
   "source": [
    "df2 = df2.drop(['Description'], axis=1)\n",
    "#df2 = df2.drop(['Clean Description'], axis=1)\n",
    "#df2 = df2.drop(['Address'], axis=1)\n",
    "df2.astype(\"int\")\n",
    "X_train, Y_train, X_val, Y_val = split_data(df2)\n",
    "evaluate_linear_regression(X_train, Y_train, X_val, Y_val) \n",
    "\n",
    "std_err, coefs = standard_error(X_train, Y_train)\n",
    "cols = list(df2.drop(['Price'], axis=1).columns)\n",
    "t_value = coefs/std_err\n",
    "p_value = (1-stats.t.cdf(abs(t_value),df=len(Y_train)-2))*2"
   ]
  },
  {
   "cell_type": "code",
   "execution_count": 167,
   "metadata": {},
   "outputs": [
    {
     "name": "stdout",
     "output_type": "stream",
     "text": [
      "       variables  coefficients  std error      t_value  p_value\n",
      "0   PropertyType     67.823641   0.060651  1118.266162      0.0\n",
      "1           Beds    202.927401   0.061483  3300.520415      0.0\n",
      "2          Baths    122.481763   0.061524  1990.793373      0.0\n",
      "3           Sqft      0.174062   0.006144    28.329910      0.0\n",
      "4      YearBuilt      0.033825   0.002589    13.063840      0.0\n",
      "5      WalkScore      3.106867   0.186160    16.689265      0.0\n",
      "6   TransitScore      4.541271   0.172450    26.333891      0.0\n",
      "7   ParkingPrice     -0.810168   0.044247   -18.310158      0.0\n",
      "8    ParkingType    -43.114156   0.061300  -703.328808      0.0\n",
      "9        Cooling    115.739533   0.061334  1887.046867      0.0\n",
      "10       Laundry     60.580073   0.061409   986.497619      0.0\n",
      "11        access     74.846210   0.064130  1167.105084      0.0\n",
      "12          site    -50.281972   0.062973  -798.470470      0.0\n",
      "13      features     62.369849   0.062930   991.105445      0.0\n",
      "14        floors     34.191209   0.062369   548.207276      0.0\n",
      "15        center   -121.624250   0.062351 -1950.652203      0.0\n",
      "16    appliances     22.567042   0.062350   361.942828      0.0\n",
      "17       fitness      2.937452   0.062337    47.122315      0.0\n",
      "18         rooms    -29.274617   0.062993  -464.725896      0.0\n",
      "19         fifth   -158.450170   0.062290 -2543.760733      0.0\n",
      "20         grand   -468.508341   0.062287 -7521.816817      0.0\n",
      "21      kaufmann    400.051309   0.062859  6364.303866      0.0\n",
      "22    pittsburgh     45.926830   0.062005   740.699496      0.0\n",
      "23          room      2.915506   0.065194    44.720298      0.0\n",
      "24          unit     33.257889   0.062552   531.683517      0.0\n",
      "25      hardwood    -43.174648   0.061802  -698.591918      0.0\n",
      "26        washer    -94.544226   0.063019 -1500.261423      0.0\n",
      "27         dryer      7.709099   0.061821   124.701120      0.0\n",
      "28           air      4.146559   0.062945    65.875818      0.0\n",
      "29          walk    -13.755057   0.061831  -222.463609      0.0\n",
      "30    dishwasher    101.716760   0.061768  1646.746940      0.0\n",
      "31          high     35.813621   0.062370   574.216085      0.0\n",
      "32  conditioning     48.824848   0.061755   790.624754      0.0\n",
      "33     stainless   -136.798392   0.061749 -2215.407988      0.0\n",
      "34         steel    236.176293   0.061752  3824.586955      0.0\n",
      "35         final     62.902391   0.061447  1023.692939      0.0\n"
     ]
    }
   ],
   "source": [
    "summary = pd.DataFrame()\n",
    "summary['variables'] = cols\n",
    "summary['coefficients'] = coefs\n",
    "summary['std error'] = std_err\n",
    "summary['t_value'] = t_value\n",
    "summary['p_value'] = p_value\n",
    "print(summary)"
   ]
  },
  {
   "cell_type": "code",
   "execution_count": null,
   "metadata": {},
   "outputs": [],
   "source": [
    "import matplotlib.pyplot as plt\n",
    "#plt.plot(X_train, Y_train)"
   ]
  },
  {
   "cell_type": "code",
   "execution_count": null,
   "metadata": {},
   "outputs": [],
   "source": []
  }
 ],
 "metadata": {
  "file_extension": ".py",
  "kernelspec": {
   "display_name": "Python 3",
   "language": "python",
   "name": "python3"
  },
  "language_info": {
   "codemirror_mode": {
    "name": "ipython",
    "version": 3
   },
   "file_extension": ".py",
   "mimetype": "text/x-python",
   "name": "python",
   "nbconvert_exporter": "python",
   "pygments_lexer": "ipython3",
   "version": "3.7.6"
  },
  "mimetype": "text/x-python",
  "name": "python",
  "npconvert_exporter": "python",
  "pygments_lexer": "ipython3",
  "version": 3
 },
 "nbformat": 4,
 "nbformat_minor": 2
}
