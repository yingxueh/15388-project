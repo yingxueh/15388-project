{
 "cells": [
  {
   "cell_type": "markdown",
   "metadata": {},
   "source": [
    "# Performing Linear Regression with Bag of Words"
   ]
  },
  {
   "cell_type": "code",
   "execution_count": 21,
   "metadata": {},
   "outputs": [],
   "source": [
    "import csv\n",
    "import gzip\n",
    "import math\n",
    "import hashlib\n",
    "import numpy as np\n",
    "import pandas as pd\n",
    "import re"
   ]
  },
  {
   "cell_type": "code",
   "execution_count": 22,
   "metadata": {},
   "outputs": [],
   "source": [
    "df = pd.read_csv('all.csv', dtype=str, keep_default_na=False)"
   ]
  },
  {
   "cell_type": "code",
   "execution_count": 23,
   "metadata": {},
   "outputs": [],
   "source": [
    "df[\"Price\"] = pd.to_numeric(df[\"Price\"])\n",
    "df[\"PropertyType\"] = pd.to_numeric(df[\"PropertyType\"])\n",
    "df[\"Beds\"] = pd.to_numeric(df[\"Beds\"])\n",
    "df[\"Baths\"] = pd.to_numeric(df[\"Baths\"])\n",
    "df[\"Sqft\"] = pd.to_numeric(df[\"Sqft\"])\n",
    "df[\"YearBuilt\"] = pd.to_numeric(df[\"YearBuilt\"], downcast='integer')\n",
    "df[\"WalkScore\"] = pd.to_numeric(df[\"WalkScore\"])\n",
    "df[\"TransitScore\"] = pd.to_numeric(df[\"TransitScore\"])\n",
    "df[\"ParkingPrice\"] = pd.to_numeric(df[\"ParkingPrice\"])\n",
    "df[\"ParkingType\"] = pd.to_numeric(df[\"ParkingType\"])\n",
    "df[\"Cooling\"] = pd.to_numeric(df[\"Cooling\"])\n",
    "df[\"Laundry\"] = pd.to_numeric(df[\"Laundry\"])\n",
    "\n",
    "price = df['Price']\n",
    "df.drop(labels=['Price'], axis=1,inplace = True)\n",
    "df.insert(0, 'Price', price)\n",
    "\n",
    "df1 = df.drop(['Address', 'Description'], axis=1)"
   ]
  },
  {
   "cell_type": "markdown",
   "metadata": {},
   "source": [
    "## Baseline Regression"
   ]
  },
  {
   "cell_type": "code",
   "execution_count": 24,
   "metadata": {},
   "outputs": [],
   "source": [
    "def split_data(df):\n",
    "    \"\"\"split the data into training and validation sets, and convert them to np.ndarray. (Step 1 and 2 above.)\n",
    "\n",
    "    args:\n",
    "        df : pandas.DataFrame -- the parsed data, as returned by parse_stackoverflow_data()\n",
    "\n",
    "    returns: X_train, y_train, X_val, y_val\n",
    "      X_train  : np.ndarray -- the second 80% of the data features\n",
    "      y_train : np.ndarray -- the second 80% of the target values\n",
    "      X_val : np.ndarray -- the first 20% (rounded down) of the data features\n",
    "      y_val : np.ndarray -- the first 20% of the target valuesn\n",
    "    \"\"\"\n",
    "    n = len(df)\n",
    "    df['final'] = 1.0\n",
    "    df = df.to_numpy()\n",
    "    i = int(np.floor(n*0.2))\n",
    "    val = df[0:i,:]\n",
    "    train = df[i:,:]\n",
    "    Y_train = train[:, 0]\n",
    "    X_train = train[:, 1:]\n",
    "    Y_val = val[:, 0]\n",
    "    X_val = val[:, 1:]\n",
    "    return(X_train, Y_train, X_val, Y_val)\n",
    "X_train, Y_train, X_val, Y_val = split_data(df1)"
   ]
  },
  {
   "cell_type": "code",
   "execution_count": 25,
   "metadata": {},
   "outputs": [],
   "source": [
    "#https://stattrek.com/regression/slope-confidence-interval.aspx?Tutorial=AP\n",
    "\n",
    "def squared_error(y_pred, y):\n",
    "    return(np.mean(np.square(np.subtract(y_pred,y))))\n",
    "\n",
    "def standard_error(X_train, y_train):\n",
    "    lm = LinearRegression(X_train, y_train)\n",
    "    y_hat = lm.predict(X_train)\n",
    "    x_bar = np.mean(X_train)\n",
    "    n = len(y_train)\n",
    "    return np.sqrt(sum((y_train - y_hat)**2)/(n - 2))/np.sqrt(sum((X_train - x_bar)**2)), lm.theta\n",
    "\n",
    "class LinearRegression():\n",
    "    def __init__(self, X, y):\n",
    "        self.theta = np.linalg.solve(X.T @ X, X.T @ y)\n",
    "\n",
    "    def predict(self, X): \n",
    "        return(X @ self.theta)"
   ]
  },
  {
   "cell_type": "code",
   "execution_count": 26,
   "metadata": {},
   "outputs": [
    {
     "data": {
      "text/plain": [
       "(123607.94780833411, 319678.33238067484)"
      ]
     },
     "execution_count": 26,
     "metadata": {},
     "output_type": "execute_result"
    }
   ],
   "source": [
    "def evaluate_linear_regression(X_train, y_train, X_val, y_val):\n",
    "    lm = LinearRegression(X_train, y_train)\n",
    "    baseline_mse = squared_error(np.mean(y_train), y_val)\n",
    "    validation_mse = squared_error(lm.predict(X_val), y_val)\n",
    "    return((validation_mse, baseline_mse))\n",
    "evaluate_linear_regression(X_train, Y_train, X_val, Y_val)   "
   ]
  },
  {
   "cell_type": "code",
   "execution_count": 28,
   "metadata": {},
   "outputs": [],
   "source": [
    "std_err, coefs = standard_error(X_train, Y_train)\n",
    "cols = list(df1.drop(['Price'], axis=1).columns)"
   ]
  },
  {
   "cell_type": "code",
   "execution_count": 29,
   "metadata": {},
   "outputs": [],
   "source": [
    "#https://online.stat.psu.edu/stat501/lesson/2/2.12\n",
    "#https://stats.stackexchange.com/questions/324260/manually-calculate-the-parameters-std-error-of-lm-output-in-r\n",
    "#https://www.statisticshowto.com/probability-and-statistics/coefficient-of-determination-r-squared/\n",
    "#https://en.wikipedia.org/wiki/Simple_linear_regression\n",
    "\n",
    "from scipy import stats\n",
    "t_value = coefs/std_err\n",
    "p_value = (1-stats.t.cdf(abs(t_value),df=len(Y_train)-2))*2"
   ]
  },
  {
   "cell_type": "code",
   "execution_count": 30,
   "metadata": {},
   "outputs": [
    {
     "data": {
      "text/html": [
       "<div>\n",
       "<style scoped>\n",
       "    .dataframe tbody tr th:only-of-type {\n",
       "        vertical-align: middle;\n",
       "    }\n",
       "\n",
       "    .dataframe tbody tr th {\n",
       "        vertical-align: top;\n",
       "    }\n",
       "\n",
       "    .dataframe thead th {\n",
       "        text-align: right;\n",
       "    }\n",
       "</style>\n",
       "<table border=\"1\" class=\"dataframe\">\n",
       "  <thead>\n",
       "    <tr style=\"text-align: right;\">\n",
       "      <th></th>\n",
       "      <th>Price</th>\n",
       "      <th>PropertyType</th>\n",
       "      <th>Beds</th>\n",
       "      <th>Baths</th>\n",
       "      <th>Sqft</th>\n",
       "      <th>YearBuilt</th>\n",
       "      <th>WalkScore</th>\n",
       "      <th>TransitScore</th>\n",
       "      <th>ParkingPrice</th>\n",
       "      <th>ParkingType</th>\n",
       "      <th>Cooling</th>\n",
       "      <th>Laundry</th>\n",
       "      <th>final</th>\n",
       "    </tr>\n",
       "  </thead>\n",
       "  <tbody>\n",
       "    <tr>\n",
       "      <th>0</th>\n",
       "      <td>1285.0</td>\n",
       "      <td>0.0</td>\n",
       "      <td>1.0</td>\n",
       "      <td>1.0</td>\n",
       "      <td>828.0</td>\n",
       "      <td>1950</td>\n",
       "      <td>20.0</td>\n",
       "      <td>0.0</td>\n",
       "      <td>0.0</td>\n",
       "      <td>1.0</td>\n",
       "      <td>1.0</td>\n",
       "      <td>2.0</td>\n",
       "      <td>1.0</td>\n",
       "    </tr>\n",
       "    <tr>\n",
       "      <th>1</th>\n",
       "      <td>925.0</td>\n",
       "      <td>1.0</td>\n",
       "      <td>1.0</td>\n",
       "      <td>1.0</td>\n",
       "      <td>800.0</td>\n",
       "      <td>2012</td>\n",
       "      <td>56.0</td>\n",
       "      <td>47.0</td>\n",
       "      <td>0.0</td>\n",
       "      <td>1.0</td>\n",
       "      <td>1.0</td>\n",
       "      <td>1.0</td>\n",
       "      <td>1.0</td>\n",
       "    </tr>\n",
       "    <tr>\n",
       "      <th>2</th>\n",
       "      <td>1125.0</td>\n",
       "      <td>1.0</td>\n",
       "      <td>2.0</td>\n",
       "      <td>1.0</td>\n",
       "      <td>900.0</td>\n",
       "      <td>1950</td>\n",
       "      <td>59.0</td>\n",
       "      <td>50.0</td>\n",
       "      <td>0.0</td>\n",
       "      <td>0.0</td>\n",
       "      <td>0.0</td>\n",
       "      <td>0.0</td>\n",
       "      <td>1.0</td>\n",
       "    </tr>\n",
       "    <tr>\n",
       "      <th>3</th>\n",
       "      <td>990.0</td>\n",
       "      <td>0.0</td>\n",
       "      <td>0.0</td>\n",
       "      <td>1.0</td>\n",
       "      <td>630.0</td>\n",
       "      <td>1950</td>\n",
       "      <td>83.0</td>\n",
       "      <td>62.0</td>\n",
       "      <td>0.0</td>\n",
       "      <td>1.0</td>\n",
       "      <td>0.0</td>\n",
       "      <td>1.0</td>\n",
       "      <td>1.0</td>\n",
       "    </tr>\n",
       "    <tr>\n",
       "      <th>4</th>\n",
       "      <td>1270.0</td>\n",
       "      <td>0.0</td>\n",
       "      <td>2.0</td>\n",
       "      <td>1.0</td>\n",
       "      <td>900.0</td>\n",
       "      <td>1913</td>\n",
       "      <td>94.0</td>\n",
       "      <td>69.0</td>\n",
       "      <td>0.0</td>\n",
       "      <td>1.0</td>\n",
       "      <td>0.0</td>\n",
       "      <td>0.0</td>\n",
       "      <td>1.0</td>\n",
       "    </tr>\n",
       "    <tr>\n",
       "      <th>...</th>\n",
       "      <td>...</td>\n",
       "      <td>...</td>\n",
       "      <td>...</td>\n",
       "      <td>...</td>\n",
       "      <td>...</td>\n",
       "      <td>...</td>\n",
       "      <td>...</td>\n",
       "      <td>...</td>\n",
       "      <td>...</td>\n",
       "      <td>...</td>\n",
       "      <td>...</td>\n",
       "      <td>...</td>\n",
       "      <td>...</td>\n",
       "    </tr>\n",
       "    <tr>\n",
       "      <th>1003</th>\n",
       "      <td>645.0</td>\n",
       "      <td>0.0</td>\n",
       "      <td>1.0</td>\n",
       "      <td>1.0</td>\n",
       "      <td>845.0</td>\n",
       "      <td>1970</td>\n",
       "      <td>48.0</td>\n",
       "      <td>38.0</td>\n",
       "      <td>0.0</td>\n",
       "      <td>1.0</td>\n",
       "      <td>0.0</td>\n",
       "      <td>0.0</td>\n",
       "      <td>1.0</td>\n",
       "    </tr>\n",
       "    <tr>\n",
       "      <th>1004</th>\n",
       "      <td>1190.0</td>\n",
       "      <td>0.0</td>\n",
       "      <td>1.0</td>\n",
       "      <td>1.0</td>\n",
       "      <td>670.0</td>\n",
       "      <td>1970</td>\n",
       "      <td>87.0</td>\n",
       "      <td>83.0</td>\n",
       "      <td>0.0</td>\n",
       "      <td>1.0</td>\n",
       "      <td>1.0</td>\n",
       "      <td>0.0</td>\n",
       "      <td>1.0</td>\n",
       "    </tr>\n",
       "    <tr>\n",
       "      <th>1005</th>\n",
       "      <td>1295.0</td>\n",
       "      <td>0.0</td>\n",
       "      <td>1.0</td>\n",
       "      <td>1.0</td>\n",
       "      <td>845.0</td>\n",
       "      <td>1970</td>\n",
       "      <td>94.0</td>\n",
       "      <td>68.0</td>\n",
       "      <td>0.0</td>\n",
       "      <td>0.0</td>\n",
       "      <td>1.0</td>\n",
       "      <td>0.0</td>\n",
       "      <td>1.0</td>\n",
       "    </tr>\n",
       "    <tr>\n",
       "      <th>1006</th>\n",
       "      <td>1495.0</td>\n",
       "      <td>0.0</td>\n",
       "      <td>1.0</td>\n",
       "      <td>1.0</td>\n",
       "      <td>866.0</td>\n",
       "      <td>2014</td>\n",
       "      <td>99.0</td>\n",
       "      <td>99.0</td>\n",
       "      <td>0.0</td>\n",
       "      <td>1.0</td>\n",
       "      <td>1.0</td>\n",
       "      <td>2.0</td>\n",
       "      <td>1.0</td>\n",
       "    </tr>\n",
       "    <tr>\n",
       "      <th>1007</th>\n",
       "      <td>1489.0</td>\n",
       "      <td>0.0</td>\n",
       "      <td>2.0</td>\n",
       "      <td>2.0</td>\n",
       "      <td>845.0</td>\n",
       "      <td>1970</td>\n",
       "      <td>90.0</td>\n",
       "      <td>67.0</td>\n",
       "      <td>0.0</td>\n",
       "      <td>0.0</td>\n",
       "      <td>1.0</td>\n",
       "      <td>1.0</td>\n",
       "      <td>1.0</td>\n",
       "    </tr>\n",
       "  </tbody>\n",
       "</table>\n",
       "<p>1008 rows × 13 columns</p>\n",
       "</div>"
      ],
      "text/plain": [
       "       Price  PropertyType  Beds  Baths   Sqft  YearBuilt  WalkScore  \\\n",
       "0     1285.0           0.0   1.0    1.0  828.0       1950       20.0   \n",
       "1      925.0           1.0   1.0    1.0  800.0       2012       56.0   \n",
       "2     1125.0           1.0   2.0    1.0  900.0       1950       59.0   \n",
       "3      990.0           0.0   0.0    1.0  630.0       1950       83.0   \n",
       "4     1270.0           0.0   2.0    1.0  900.0       1913       94.0   \n",
       "...      ...           ...   ...    ...    ...        ...        ...   \n",
       "1003   645.0           0.0   1.0    1.0  845.0       1970       48.0   \n",
       "1004  1190.0           0.0   1.0    1.0  670.0       1970       87.0   \n",
       "1005  1295.0           0.0   1.0    1.0  845.0       1970       94.0   \n",
       "1006  1495.0           0.0   1.0    1.0  866.0       2014       99.0   \n",
       "1007  1489.0           0.0   2.0    2.0  845.0       1970       90.0   \n",
       "\n",
       "      TransitScore  ParkingPrice  ParkingType  Cooling  Laundry  final  \n",
       "0              0.0           0.0          1.0      1.0      2.0    1.0  \n",
       "1             47.0           0.0          1.0      1.0      1.0    1.0  \n",
       "2             50.0           0.0          0.0      0.0      0.0    1.0  \n",
       "3             62.0           0.0          1.0      0.0      1.0    1.0  \n",
       "4             69.0           0.0          1.0      0.0      0.0    1.0  \n",
       "...            ...           ...          ...      ...      ...    ...  \n",
       "1003          38.0           0.0          1.0      0.0      0.0    1.0  \n",
       "1004          83.0           0.0          1.0      1.0      0.0    1.0  \n",
       "1005          68.0           0.0          0.0      1.0      0.0    1.0  \n",
       "1006          99.0           0.0          1.0      1.0      2.0    1.0  \n",
       "1007          67.0           0.0          0.0      1.0      1.0    1.0  \n",
       "\n",
       "[1008 rows x 13 columns]"
      ]
     },
     "execution_count": 30,
     "metadata": {},
     "output_type": "execute_result"
    }
   ],
   "source": [
    "df1"
   ]
  },
  {
   "cell_type": "code",
   "execution_count": 31,
   "metadata": {},
   "outputs": [
    {
     "name": "stdout",
     "output_type": "stream",
     "text": [
      "       variables  coefficients  std error        t_value   p_value\n",
      "0   PropertyType      9.236659   0.040108     230.292655  0.000000\n",
      "1           Beds    192.074261   0.040338    4761.650206  0.000000\n",
      "2          Baths    368.287970   0.040273    9144.762398  0.000000\n",
      "3           Sqft      0.148738   0.011826      12.577509  0.000000\n",
      "4      YearBuilt      2.075000   0.006116     339.279857  0.000000\n",
      "5      WalkScore      3.460642   0.056015      61.780420  0.000000\n",
      "6   TransitScore      4.597247   0.052286      87.925423  0.000000\n",
      "7   ParkingPrice     -0.133602   0.041786      -3.197307  0.001441\n",
      "8    ParkingType     49.542558   0.040181    1232.998350  0.000000\n",
      "9        Cooling     83.001999   0.040178    2065.852401  0.000000\n",
      "10       Laundry     59.428875   0.040224    1477.443165  0.000000\n",
      "11         final  -4295.699246   0.040237 -106761.142657  0.000000\n"
     ]
    }
   ],
   "source": [
    "summary = pd.DataFrame()\n",
    "summary['variables'] = cols\n",
    "summary['coefficients'] = coefs\n",
    "summary['std error'] = std_err\n",
    "summary['t_value'] = t_value\n",
    "summary['p_value'] = p_value\n",
    "print(summary)"
   ]
  },
  {
   "cell_type": "markdown",
   "metadata": {},
   "source": [
    "### Cleaning Text Data"
   ]
  },
  {
   "cell_type": "code",
   "execution_count": 32,
   "metadata": {},
   "outputs": [],
   "source": [
    "def clean_description(description):\n",
    "    description = description.lower()\n",
    "    return ' '.join(re.sub('(@[A-Za-z0-9]+)|([^0-9A-Za-z \\t])|(\\w+:\\/\\/\\S+)|([-,\\\"@\\'?\\.$%_\\d\\+\\:])', ' ', description).split())\n",
    "\n",
    "df[\"Clean Description\"] = df['Description'].apply(lambda x: clean_description(x))"
   ]
  },
  {
   "cell_type": "code",
   "execution_count": 33,
   "metadata": {},
   "outputs": [
    {
     "data": {
      "text/plain": [
       "'this town home is for rent in the east end section of pittsburgh swiss helm park area near regent square and has been completely renovated complete with new kitchen bathroom and hardwood floors the first floor has been updated to have an open floor plan so the living room dining room and kitchen all flow into each other granite counter tops in kitchen wet room style bath and exposed brick the second floor is loft style with an open floor plan at sq feet the home is flooded with natural light park views and is very contemporary great location sits you a block from frick park it has both front and back porches and has a fenced in backyard complete with large private patio garden with raised beds for planting and a green rain barrel the home is conveniently located near regent square swiss helm park squirrel hill and frick park a few exits away from upmc pitt oakland sq hill and downtown pittsburgh home includes central ac refrigerator dishwasher gas range microwave washer and dryer garage spot available no pets non smoking unit rent is per month plus utilities first month rent and security deposit is required upon lease signing total required to move in tenant pays gas electric water sewage trashread less'"
      ]
     },
     "execution_count": 33,
     "metadata": {},
     "output_type": "execute_result"
    }
   ],
   "source": [
    "df[\"Clean Description\"][1]"
   ]
  },
  {
   "cell_type": "markdown",
   "metadata": {},
   "source": [
    "## Bag of Words"
   ]
  },
  {
   "cell_type": "code",
   "execution_count": 34,
   "metadata": {},
   "outputs": [
    {
     "name": "stdout",
     "output_type": "stream",
     "text": [
      "           word  count\n",
      "13    apartment    739\n",
      "99      kitchen    717\n",
      "297     bedroom    700\n",
      "98          new    592\n",
      "108        room    558\n",
      "73      parking    553\n",
      "189        less    551\n",
      "193  apartments    547\n",
      "83         rent    535\n",
      "34      located    532\n",
      "166   available    520\n",
      "104       floor    510\n",
      "186       water    508\n",
      "385         one    492\n",
      "160         gas    488\n",
      "192      street    470\n",
      "3        living    465\n",
      "260      access    454\n",
      "102      floors    452\n",
      "77       center    450\n",
      "302    features    437\n",
      "67         site    434\n",
      "313     laundry    433\n",
      "154    downtown    428\n"
     ]
    }
   ],
   "source": [
    "import nltk\n",
    "\n",
    "stopwords = {'me', 'my', 'myself', 'we', 'our', 'ours', 'ourselves', 'you', 'your', 'yours',\n",
    "                       'yourself', 'yourselves', 'he', 'him', 'his', 'himself', 'she', 'her', 'hers', 'herself',\n",
    "                       'it', 'its', 'itself', 'they', 'them', 'their', 'theirs', 'themselves', 'what', 'which',\n",
    "                       'who', 'whom', 'this', 'that', 'these', 'those', 'am', 'is', 'are', 'was', 'were', 'be',\n",
    "                       'been', 'being', 'have', 'has', 'had', 'having', 'do', 'does', 'did', 'doing', 'an',\n",
    "                       'the', 'and', 'but', 'if', 'or', 'because', 'as', 'until', 'while', 'of', 'at', 'by',\n",
    "                       'for', 'with', 'about', 'between', 'into', 'through', 'during', 'before',\n",
    "                       'after', 'above', 'below', 'to', 'from', 'up', 'down', 'in', 'out', 'on', 'off', 'over',\n",
    "                       'under', 'again', 'further', 'then', 'once', 'here', 'there', 'when', 'where', 'why',\n",
    "                       'how', 'all', 'any', 'both', 'each', 'few', 'more', 'most', 'other', 'some', 'such',\n",
    "                       'no', 'nor', 'not', 'only', 'own', 'same', 'so', 'than', 'too', 'very', 'can',\n",
    "                       'just', 'should', 'now', '', 'a', 's'}\n",
    "\n",
    "def getAllWords(df):\n",
    "    allWords = {}\n",
    "    for index, row in df.iterrows():\n",
    "        tmpDict = row['Clean Description'].split()\n",
    "        for word in tmpDict:\n",
    "            if word not in stopwords:\n",
    "                if word not in allWords:\n",
    "                    allWords[word] = 1\n",
    "                else:\n",
    "                    allWords[word] += 1\n",
    "    allWords = pd.DataFrame(list(allWords.items()),columns = ['word','count']) \n",
    "    return allWords\n",
    "\n",
    "wordcounts = getAllWords(df).sort_values(by=['count'], ascending=False)\n",
    "vocab = wordcounts[1:25]\n",
    "print(wordcounts[1:25])"
   ]
  },
  {
   "cell_type": "code",
   "execution_count": 35,
   "metadata": {},
   "outputs": [],
   "source": [
    "df2 = df\n",
    "for word in vocab[\"word\"]: \n",
    "    df2[word] = 0"
   ]
  },
  {
   "cell_type": "code",
   "execution_count": 36,
   "metadata": {},
   "outputs": [],
   "source": [
    "bow = []\n",
    "for index, row in df2.iterrows():\n",
    "    tmpDict = row['Clean Description']\n",
    "    for word in vocab[\"word\"]:\n",
    "        df2.loc[index, word] = tmpDict.count(word)"
   ]
  },
  {
   "cell_type": "code",
   "execution_count": 37,
   "metadata": {
    "scrolled": true
   },
   "outputs": [
    {
     "name": "stdout",
     "output_type": "stream",
     "text": [
      "       Price                                  Address  PropertyType  Beds  \\\n",
      "0     1285.0  2565 Boyce Plaza Rd Pittsburgh PA 15241           0.0   1.0   \n",
      "1      925.0      7122 Whipple St Pittsburgh PA 15218           1.0   1.0   \n",
      "2     1125.0     5510 Stanton Ave Pittsburgh PA 15206           1.0   2.0   \n",
      "3      990.0      10 Allegheny Ct Pittsburgh PA 15212           0.0   0.0   \n",
      "4     1270.0     340 Highland Ave Pittsburgh PA 15206           0.0   2.0   \n",
      "...      ...                                      ...           ...   ...   \n",
      "1003   645.0        306 Saline St Pittsburgh PA 15207           0.0   1.0   \n",
      "1004  1190.0       3 Allegheny Ct Pittsburgh PA 15212           0.0   1.0   \n",
      "1005  1295.0       5515 Baum Blvd Pittsburgh PA 15232           0.0   1.0   \n",
      "1006  1495.0         909 Penn Ave Pittsburgh PA 15222           0.0   1.0   \n",
      "1007  1489.0      157 Fairmont St Pittsburgh PA 15206           0.0   2.0   \n",
      "\n",
      "      Baths   Sqft  YearBuilt  WalkScore  TransitScore  ParkingPrice  ...  \\\n",
      "0       1.0  828.0       1950       20.0           0.0           0.0  ...   \n",
      "1       1.0  800.0       2012       56.0          47.0           0.0  ...   \n",
      "2       1.0  900.0       1950       59.0          50.0           0.0  ...   \n",
      "3       1.0  630.0       1950       83.0          62.0           0.0  ...   \n",
      "4       1.0  900.0       1913       94.0          69.0           0.0  ...   \n",
      "...     ...    ...        ...        ...           ...           ...  ...   \n",
      "1003    1.0  845.0       1970       48.0          38.0           0.0  ...   \n",
      "1004    1.0  670.0       1970       87.0          83.0           0.0  ...   \n",
      "1005    1.0  845.0       1970       94.0          68.0           0.0  ...   \n",
      "1006    1.0  866.0       2014       99.0          99.0           0.0  ...   \n",
      "1007    2.0  845.0       1970       90.0          67.0           0.0  ...   \n",
      "\n",
      "      gas  street  living access floors  center  features  site  laundry  \\\n",
      "0       0       0       2      0      0       1         0     2        0   \n",
      "1       2       0       1      0      1       0         0     0        0   \n",
      "2       0       1       0      0      0       0         0     0        0   \n",
      "3       0       0       0      2      0       4         0     0        0   \n",
      "4       1       0       0      0      0       0         1     0        1   \n",
      "...   ...     ...     ...    ...    ...     ...       ...   ...      ...   \n",
      "1003    1       1       0      0      0       0         0     0        0   \n",
      "1004    0       1       0      0      0       1         0     0        0   \n",
      "1005    1       0       1      0      2       0         2     0        1   \n",
      "1006    1       0       1      0      0       0         0     0        0   \n",
      "1007    0       0       0      0      1       0         1     0        0   \n",
      "\n",
      "      downtown  \n",
      "0            0  \n",
      "1            1  \n",
      "2            0  \n",
      "3            0  \n",
      "4            0  \n",
      "...        ...  \n",
      "1003         0  \n",
      "1004         1  \n",
      "1005         1  \n",
      "1006         1  \n",
      "1007         0  \n",
      "\n",
      "[1008 rows x 39 columns]\n"
     ]
    }
   ],
   "source": [
    "print(df2)"
   ]
  },
  {
   "cell_type": "code",
   "execution_count": null,
   "metadata": {},
   "outputs": [],
   "source": []
  },
  {
   "cell_type": "code",
   "execution_count": 38,
   "metadata": {},
   "outputs": [
    {
     "data": {
      "text/plain": [
       "0       Experience the best in luxury living with brea...\n",
       "1       This Town Home is for rent in the East End sec...\n",
       "2       Highland Park - 2BR Apartment With Off Street ...\n",
       "3       FROM VIRTUAL. TO REALITY.CALL US FOR AN IN-PER...\n",
       "4       2 Bedroom 1 Bathroom Apartment in Shadyside\\n\\...\n",
       "                              ...                        \n",
       "1003    One Bedroom in 4-Mile Run Available Now\\n - On...\n",
       "1004    Sublet: 1 Bedroom 1Bath with Spacious Balcony ...\n",
       "1005    This is a first floor apartment located in gro...\n",
       "1006    Live the Lando Life. Walking, dining, socializ...\n",
       "1007    **Pictures shown are showing what the finishes...\n",
       "Name: Description, Length: 1008, dtype: object"
      ]
     },
     "execution_count": 38,
     "metadata": {},
     "output_type": "execute_result"
    }
   ],
   "source": [
    "df2['Description']"
   ]
  },
  {
   "cell_type": "code",
   "execution_count": 166,
   "metadata": {},
   "outputs": [],
   "source": [
    "df2 = df2.drop(['Description'], axis=1)\n",
    "#df2 = df2.drop(['Clean Description'], axis=1)\n",
    "#df2 = df2.drop(['Address'], axis=1)\n",
    "df2.astype(\"int\")\n",
    "X_train, Y_train, X_val, Y_val = split_data(df2)\n",
    "evaluate_linear_regression(X_train, Y_train, X_val, Y_val) \n",
    "\n",
    "std_err, coefs = standard_error(X_train, Y_train)\n",
    "cols = list(df2.drop(['Price'], axis=1).columns)\n",
    "t_value = coefs/std_err\n",
    "p_value = (1-stats.t.cdf(abs(t_value),df=len(Y_train)-2))*2"
   ]
  },
  {
   "cell_type": "code",
   "execution_count": 167,
   "metadata": {},
   "outputs": [
    {
     "name": "stdout",
     "output_type": "stream",
     "text": [
      "       variables  coefficients  std error      t_value  p_value\n",
      "0   PropertyType     67.823641   0.060651  1118.266162      0.0\n",
      "1           Beds    202.927401   0.061483  3300.520415      0.0\n",
      "2          Baths    122.481763   0.061524  1990.793373      0.0\n",
      "3           Sqft      0.174062   0.006144    28.329910      0.0\n",
      "4      YearBuilt      0.033825   0.002589    13.063840      0.0\n",
      "5      WalkScore      3.106867   0.186160    16.689265      0.0\n",
      "6   TransitScore      4.541271   0.172450    26.333891      0.0\n",
      "7   ParkingPrice     -0.810168   0.044247   -18.310158      0.0\n",
      "8    ParkingType    -43.114156   0.061300  -703.328808      0.0\n",
      "9        Cooling    115.739533   0.061334  1887.046867      0.0\n",
      "10       Laundry     60.580073   0.061409   986.497619      0.0\n",
      "11        access     74.846210   0.064130  1167.105084      0.0\n",
      "12          site    -50.281972   0.062973  -798.470470      0.0\n",
      "13      features     62.369849   0.062930   991.105445      0.0\n",
      "14        floors     34.191209   0.062369   548.207276      0.0\n",
      "15        center   -121.624250   0.062351 -1950.652203      0.0\n",
      "16    appliances     22.567042   0.062350   361.942828      0.0\n",
      "17       fitness      2.937452   0.062337    47.122315      0.0\n",
      "18         rooms    -29.274617   0.062993  -464.725896      0.0\n",
      "19         fifth   -158.450170   0.062290 -2543.760733      0.0\n",
      "20         grand   -468.508341   0.062287 -7521.816817      0.0\n",
      "21      kaufmann    400.051309   0.062859  6364.303866      0.0\n",
      "22    pittsburgh     45.926830   0.062005   740.699496      0.0\n",
      "23          room      2.915506   0.065194    44.720298      0.0\n",
      "24          unit     33.257889   0.062552   531.683517      0.0\n",
      "25      hardwood    -43.174648   0.061802  -698.591918      0.0\n",
      "26        washer    -94.544226   0.063019 -1500.261423      0.0\n",
      "27         dryer      7.709099   0.061821   124.701120      0.0\n",
      "28           air      4.146559   0.062945    65.875818      0.0\n",
      "29          walk    -13.755057   0.061831  -222.463609      0.0\n",
      "30    dishwasher    101.716760   0.061768  1646.746940      0.0\n",
      "31          high     35.813621   0.062370   574.216085      0.0\n",
      "32  conditioning     48.824848   0.061755   790.624754      0.0\n",
      "33     stainless   -136.798392   0.061749 -2215.407988      0.0\n",
      "34         steel    236.176293   0.061752  3824.586955      0.0\n",
      "35         final     62.902391   0.061447  1023.692939      0.0\n"
     ]
    }
   ],
   "source": [
    "summary = pd.DataFrame()\n",
    "summary['variables'] = cols\n",
    "summary['coefficients'] = coefs\n",
    "summary['std error'] = std_err\n",
    "summary['t_value'] = t_value\n",
    "summary['p_value'] = p_value\n",
    "print(summary)"
   ]
  },
  {
   "cell_type": "code",
   "execution_count": null,
   "metadata": {},
   "outputs": [],
   "source": [
    "import matplotlib.pyplot as plt\n",
    "#plt.plot(X_train, Y_train)"
   ]
  },
  {
   "cell_type": "code",
   "execution_count": null,
   "metadata": {},
   "outputs": [],
   "source": []
  }
 ],
 "metadata": {
  "file_extension": ".py",
  "kernelspec": {
   "display_name": "Python 3",
   "language": "python",
   "name": "python3"
  },
  "language_info": {
   "codemirror_mode": {
    "name": "ipython",
    "version": 3
   },
   "file_extension": ".py",
   "mimetype": "text/x-python",
   "name": "python",
   "nbconvert_exporter": "python",
   "pygments_lexer": "ipython3",
   "version": "3.7.6"
  },
  "mimetype": "text/x-python",
  "name": "python",
  "npconvert_exporter": "python",
  "pygments_lexer": "ipython3",
  "version": 3
 },
 "nbformat": 4,
 "nbformat_minor": 2
}
