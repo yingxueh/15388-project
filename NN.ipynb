{
 "cells": [
  {
   "cell_type": "code",
   "execution_count": 116,
   "id": "young-miracle",
   "metadata": {},
   "outputs": [],
   "source": [
    "import pandas as pd\n",
    "import numpy as np\n",
    "import matplotlib.pyplot as plt\n",
    "from keras.models import Sequential\n",
    "from keras.layers import Dense\n",
    "from keras.layers import Activation\n",
    "from sklearn.metrics import r2_score"
   ]
  },
  {
   "cell_type": "code",
   "execution_count": 96,
   "id": "biblical-writer",
   "metadata": {},
   "outputs": [],
   "source": [
    "NUM_EPOCH = 500"
   ]
  },
  {
   "cell_type": "code",
   "execution_count": 154,
   "id": "outstanding-poker",
   "metadata": {
    "scrolled": true
   },
   "outputs": [
    {
     "name": "stdout",
     "output_type": "stream",
     "text": [
      "#features = 9\n",
      "Done\n"
     ]
    }
   ],
   "source": [
    "def format_df(df):\n",
    "    df = df.drop(columns=['Address', 'Description'])\n",
    "    df = df.astype('float64')\n",
    "    # test\n",
    "    df = df.drop(columns=['YearBuilt', 'ParkingPrice'])\n",
    "    \n",
    "    return df\n",
    "    \n",
    "\n",
    "def load_file():\n",
    "    train_file = 'all_train.csv'\n",
    "    test_file = 'all_test.csv'\n",
    "    \n",
    "    df_train = pd.read_csv(train_file, header=0, sep=',', quotechar='\"', dtype=object, keep_default_na=True)\n",
    "    df_test = pd.read_csv(test_file, header=0, sep=',', quotechar='\"', dtype=object, keep_default_na=True)\n",
    "    \n",
    "    df_train = format_df(df_train)\n",
    "    df_test = format_df(df_test)\n",
    "    \n",
    "    y_train = df_train['Price']\n",
    "    X_train = df_train.drop(columns=['Price'])\n",
    "    \n",
    "    y_test = df_test['Price']\n",
    "    X_test = df_test.drop(columns=['Price'])\n",
    "    \n",
    "    return X_train, X_test, y_train, y_test\n",
    "    \n",
    "def initialize_model(num_feature):\n",
    "    \n",
    "    model = Sequential()\n",
    "#     model.add(Dense(num_feature, activation='relu'))\n",
    "#     model.add(Dense(num_feature, activation='relu'))\n",
    "#     model.add(Dense(num_feature, activation='relu'))\n",
    "\n",
    "    model.add(Dense(32, activation='relu', input_dim=num_feature))\n",
    "    model.add(Dense(64, activation='relu'))\n",
    "    model.add(Dense(32, activation='relu'))\n",
    "    model.add(Dense(1))\n",
    "#     model.compile(optimizer='adam',loss='mean_squared_error')\n",
    "    model.compile(optimizer='adam',loss='mean_absolute_error')\n",
    "    return model\n",
    "\n",
    "def train_model(model, X_train, y_train):\n",
    "    model.fit(x=X_train, y=y_train, validation_split=0.2, epochs=NUM_EPOCH, verbose=0)\n",
    "#     model.summary()\n",
    "    return model\n",
    "    \n",
    "def predict_model(model, X_test):\n",
    "    return model.predict(X_test)\n",
    "    \n",
    "\n",
    "    \n",
    "X_train, X_test, y_train, y_test = load_file()\n",
    "num_feature = len(X_train.columns)\n",
    "\n",
    "print('#features = %d' % (num_feature))\n",
    "\n",
    "model = initialize_model(num_feature)\n",
    "model = train_model(model, X_train, y_train)\n",
    "\n",
    "y_predict = predict_model(model, X_test)\n",
    "y_actual = y_test.values\n",
    "\n",
    "print('Done')"
   ]
  },
  {
   "cell_type": "code",
   "execution_count": 155,
   "id": "graphic-lancaster",
   "metadata": {},
   "outputs": [
    {
     "name": "stdout",
     "output_type": "stream",
     "text": [
      "0.6551406359100993\n"
     ]
    },
    {
     "data": {
      "image/png": "[encoded data removed]",
      "text/plain": [
       "<Figure size 720x720 with 1 Axes>"
      ]
     },
     "metadata": {
      "needs_background": "light"
     },
     "output_type": "display_data"
    }
   ],
   "source": [
    "def plot_result(y_predict, y_actual):\n",
    "    x = np.arange(len(y_predict))\n",
    "    plt.figure(figsize=(10,10))\n",
    "    \n",
    "    y_actual_index = y_actual.argsort()\n",
    "    sorted_y_predict = y_predict[y_actual_index]\n",
    "    sorted_y_actual = y_actual[y_actual_index]\n",
    "    \n",
    "    plt.scatter(x, sorted_y_predict)\n",
    "    plt.scatter(x, sorted_y_actual)\n",
    "    plt.plot()\n",
    "    \n",
    "plot_result(y_predict, y_actual)\n",
    "print(r2_score(y_true=y_actual, y_pred=y_predict))"
   ]
  }
 ],
 "metadata": {
  "kernelspec": {
   "display_name": "Python 3",
   "language": "python",
   "name": "python3"
  },
  "language_info": {
   "codemirror_mode": {
    "name": "ipython",
    "version": 3
   },
   "file_extension": ".py",
   "mimetype": "text/x-python",
   "name": "python",
   "nbconvert_exporter": "python",
   "pygments_lexer": "ipython3",
   "version": "3.8.5"
  }
 },
 "nbformat": 4,
 "nbformat_minor": 5
}
